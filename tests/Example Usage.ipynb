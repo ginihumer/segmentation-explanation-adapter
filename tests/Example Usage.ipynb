{
 "cells": [
  {
   "cell_type": "code",
   "execution_count": 128,
   "id": "69fb0fae-fc1a-45cc-ab46-aa31157c0171",
   "metadata": {
    "scrolled": true,
    "tags": []
   },
   "outputs": [
    {
     "name": "stdout",
     "output_type": "stream",
     "text": [
      "Python 3.8.13\n"
     ]
    }
   ],
   "source": [
    "# !pip install git+https://github.com/ginihumer/segmentation-explanation-adapter.git\n",
    "! python --version"
   ]
  },
  {
   "cell_type": "code",
   "execution_count": 123,
   "id": "30db434d-3986-4fee-bd91-ad061a4d7368",
   "metadata": {},
   "outputs": [
    {
     "name": "stdout",
     "output_type": "stream",
     "text": [
      "2.8.0\n"
     ]
    }
   ],
   "source": [
    "import segmentationadapter\n",
    "from segmentationadapter import get_mask_for_class\n",
    "import tensorflow as tf\n",
    "print(tf.__version__)\n",
    "import numpy as np\n",
    "import matplotlib.pyplot as plt"
   ]
  },
  {
   "cell_type": "markdown",
   "id": "dde1fbee-116f-47e9-b6b3-3724df1c3f50",
   "metadata": {},
   "source": [
    "# 1. Load Segmentation Model"
   ]
  },
  {
   "cell_type": "code",
   "execution_count": 11,
   "id": "a62f16ca-ec81-4d1f-adbf-45fdf6c7b964",
   "metadata": {},
   "outputs": [],
   "source": [
    "with tf.device(\"/cpu:0\"):\n",
    "    model = tf.keras.models.load_model(\"../models/mushroom_seg_model.h5\")"
   ]
  },
  {
   "cell_type": "code",
   "execution_count": 12,
   "id": "19bcdbd6-76ea-4453-95b2-a393543b88f5",
   "metadata": {
    "scrolled": true,
    "tags": []
   },
   "outputs": [
    {
     "name": "stdout",
     "output_type": "stream",
     "text": [
      "Model: \"model_2\"\n",
      "__________________________________________________________________________________________________\n",
      " Layer (type)                   Output Shape         Param #     Connected to                     \n",
      "==================================================================================================\n",
      " input_3 (InputLayer)           [(None, 384, 384, 3  0           []                               \n",
      "                                )]                                                                \n",
      "                                                                                                  \n",
      " block1_conv1 (Conv2D)          (None, 384, 384, 64  1792        ['input_3[0][0]']                \n",
      "                                )                                                                 \n",
      "                                                                                                  \n",
      " block1_conv2 (Conv2D)          (None, 384, 384, 64  36928       ['block1_conv1[0][0]']           \n",
      "                                )                                                                 \n",
      "                                                                                                  \n",
      " block1_pool (MaxPooling2D)     (None, 192, 192, 64  0           ['block1_conv2[0][0]']           \n",
      "                                )                                                                 \n",
      "                                                                                                  \n",
      " block2_conv1 (Conv2D)          (None, 192, 192, 12  73856       ['block1_pool[0][0]']            \n",
      "                                8)                                                                \n",
      "                                                                                                  \n",
      " block2_conv2 (Conv2D)          (None, 192, 192, 12  147584      ['block2_conv1[0][0]']           \n",
      "                                8)                                                                \n",
      "                                                                                                  \n",
      " block2_pool (MaxPooling2D)     (None, 96, 96, 128)  0           ['block2_conv2[0][0]']           \n",
      "                                                                                                  \n",
      " block3_conv1 (Conv2D)          (None, 96, 96, 256)  295168      ['block2_pool[0][0]']            \n",
      "                                                                                                  \n",
      " block3_conv2 (Conv2D)          (None, 96, 96, 256)  590080      ['block3_conv1[0][0]']           \n",
      "                                                                                                  \n",
      " block3_conv3 (Conv2D)          (None, 96, 96, 256)  590080      ['block3_conv2[0][0]']           \n",
      "                                                                                                  \n",
      " block3_pool (MaxPooling2D)     (None, 48, 48, 256)  0           ['block3_conv3[0][0]']           \n",
      "                                                                                                  \n",
      " block4_conv1 (Conv2D)          (None, 48, 48, 512)  1180160     ['block3_pool[0][0]']            \n",
      "                                                                                                  \n",
      " block4_conv2 (Conv2D)          (None, 48, 48, 512)  2359808     ['block4_conv1[0][0]']           \n",
      "                                                                                                  \n",
      " block4_conv3 (Conv2D)          (None, 48, 48, 512)  2359808     ['block4_conv2[0][0]']           \n",
      "                                                                                                  \n",
      " psp_level1_pooling (AveragePoo  (None, 1, 1, 512)   0           ['block4_conv3[0][0]']           \n",
      " ling2D)                                                                                          \n",
      "                                                                                                  \n",
      " psp_level2_pooling (AveragePoo  (None, 2, 2, 512)   0           ['block4_conv3[0][0]']           \n",
      " ling2D)                                                                                          \n",
      "                                                                                                  \n",
      " psp_level3_pooling (AveragePoo  (None, 3, 3, 512)   0           ['block4_conv3[0][0]']           \n",
      " ling2D)                                                                                          \n",
      "                                                                                                  \n",
      " psp_level6_pooling (AveragePoo  (None, 6, 6, 512)   0           ['block4_conv3[0][0]']           \n",
      " ling2D)                                                                                          \n",
      "                                                                                                  \n",
      " psp_level1_conv (Conv2D)       (None, 1, 1, 512)    262144      ['psp_level1_pooling[0][0]']     \n",
      "                                                                                                  \n",
      " psp_level2_conv (Conv2D)       (None, 2, 2, 512)    262144      ['psp_level2_pooling[0][0]']     \n",
      "                                                                                                  \n",
      " psp_level3_conv (Conv2D)       (None, 3, 3, 512)    262144      ['psp_level3_pooling[0][0]']     \n",
      "                                                                                                  \n",
      " psp_level6_conv (Conv2D)       (None, 6, 6, 512)    262144      ['psp_level6_pooling[0][0]']     \n",
      "                                                                                                  \n",
      " psp_level1_bn (BatchNormalizat  (None, 1, 1, 512)   2048        ['psp_level1_conv[0][0]']        \n",
      " ion)                                                                                             \n",
      "                                                                                                  \n",
      " psp_level2_bn (BatchNormalizat  (None, 2, 2, 512)   2048        ['psp_level2_conv[0][0]']        \n",
      " ion)                                                                                             \n",
      "                                                                                                  \n",
      " psp_level3_bn (BatchNormalizat  (None, 3, 3, 512)   2048        ['psp_level3_conv[0][0]']        \n",
      " ion)                                                                                             \n",
      "                                                                                                  \n",
      " psp_level6_bn (BatchNormalizat  (None, 6, 6, 512)   2048        ['psp_level6_conv[0][0]']        \n",
      " ion)                                                                                             \n",
      "                                                                                                  \n",
      " psp_level1_relu (Activation)   (None, 1, 1, 512)    0           ['psp_level1_bn[0][0]']          \n",
      "                                                                                                  \n",
      " psp_level2_relu (Activation)   (None, 2, 2, 512)    0           ['psp_level2_bn[0][0]']          \n",
      "                                                                                                  \n",
      " psp_level3_relu (Activation)   (None, 3, 3, 512)    0           ['psp_level3_bn[0][0]']          \n",
      "                                                                                                  \n",
      " psp_level6_relu (Activation)   (None, 6, 6, 512)    0           ['psp_level6_bn[0][0]']          \n",
      "                                                                                                  \n",
      " psp_level1_upsampling (UpSampl  (None, 48, 48, 512)  0          ['psp_level1_relu[0][0]']        \n",
      " ing2D)                                                                                           \n",
      "                                                                                                  \n",
      " psp_level2_upsampling (UpSampl  (None, 48, 48, 512)  0          ['psp_level2_relu[0][0]']        \n",
      " ing2D)                                                                                           \n",
      "                                                                                                  \n",
      " psp_level3_upsampling (UpSampl  (None, 48, 48, 512)  0          ['psp_level3_relu[0][0]']        \n",
      " ing2D)                                                                                           \n",
      "                                                                                                  \n",
      " psp_level6_upsampling (UpSampl  (None, 48, 48, 512)  0          ['psp_level6_relu[0][0]']        \n",
      " ing2D)                                                                                           \n",
      "                                                                                                  \n",
      " psp_concat (Concatenate)       (None, 48, 48, 2560  0           ['block4_conv3[0][0]',           \n",
      "                                )                                 'psp_level1_upsampling[0][0]',  \n",
      "                                                                  'psp_level2_upsampling[0][0]',  \n",
      "                                                                  'psp_level3_upsampling[0][0]',  \n",
      "                                                                  'psp_level6_upsampling[0][0]']  \n",
      "                                                                                                  \n",
      " aggregation_conv (Conv2D)      (None, 48, 48, 512)  1310720     ['psp_concat[0][0]']             \n",
      "                                                                                                  \n",
      " aggregation_bn (BatchNormaliza  (None, 48, 48, 512)  2048       ['aggregation_conv[0][0]']       \n",
      " tion)                                                                                            \n",
      "                                                                                                  \n",
      " aggregation_relu (Activation)  (None, 48, 48, 512)  0           ['aggregation_bn[0][0]']         \n",
      "                                                                                                  \n",
      " final_conv (Conv2D)            (None, 48, 48, 7)    32263       ['aggregation_relu[0][0]']       \n",
      "                                                                                                  \n",
      " final_upsampling (UpSampling2D  (None, 384, 384, 7)  0          ['final_conv[0][0]']             \n",
      " )                                                                                                \n",
      "                                                                                                  \n",
      " softmax (Activation)           (None, 384, 384, 7)  0           ['final_upsampling[0][0]']       \n",
      "                                                                                                  \n",
      "==================================================================================================\n",
      "Total params: 10,037,063\n",
      "Trainable params: 2,396,679\n",
      "Non-trainable params: 7,640,384\n",
      "__________________________________________________________________________________________________\n"
     ]
    }
   ],
   "source": [
    "model.summary()"
   ]
  },
  {
   "cell_type": "markdown",
   "id": "837a882a-838e-4886-aa2d-9d3280e951fb",
   "metadata": {},
   "source": [
    "# 2. Load and preprocess Image"
   ]
  },
  {
   "cell_type": "code",
   "execution_count": 60,
   "id": "c0a2a4d0-9762-4dcc-b81d-e1ea8cf3221a",
   "metadata": {},
   "outputs": [],
   "source": [
    "image_path = \"../data/TL2015PIC41336870.JPG\"\n",
    "img = tf.keras.preprocessing.image.load_img(image_path, target_size=(384, 384))\n",
    "array = tf.keras.preprocessing.image.img_to_array(img)\n",
    "# We add a dimension to transform our array into a \"batch\"\n",
    "preprocess_input = tf.keras.applications.vgg16.preprocess_input\n",
    "array = preprocess_input(np.expand_dims(array, axis=0))"
   ]
  },
  {
   "cell_type": "code",
   "execution_count": null,
   "id": "0c0bf142-0fe9-4d37-a937-3f726bc184f9",
   "metadata": {},
   "outputs": [],
   "source": []
  },
  {
   "cell_type": "markdown",
   "id": "cc242bb5-03a4-4f97-b1e8-e75dd37332f0",
   "metadata": {},
   "source": [
    "# 3. Generate mask that selects all pixels of a class (could also produce a custom mask)"
   ]
  },
  {
   "cell_type": "code",
   "execution_count": 77,
   "id": "4712ee40-a748-41db-9fb5-ef8ae843db28",
   "metadata": {},
   "outputs": [
    {
     "data": {
      "image/png": "[encoded data removed]",
      "text/plain": [
       "<Figure size 288x288 with 1 Axes>"
      ]
     },
     "metadata": {
      "needs_background": "light"
     },
     "output_type": "display_data"
    }
   ],
   "source": [
    "class_idx=2\n",
    "with tf.device(\"/cpu:0\"):\n",
    "    mask = get_mask_for_class(model, array, class_idx=class_idx)\n",
    "    plt.matshow(mask[0,:,:,0])"
   ]
  },
  {
   "cell_type": "markdown",
   "id": "18d9b1f6-d20c-488b-b834-5ba5a9c09c1c",
   "metadata": {},
   "source": [
    "# 4. Transform the Segmentation Network to an Explainable Network that resembles the Architecture of a Classifier"
   ]
  },
  {
   "cell_type": "code",
   "execution_count": 78,
   "id": "a9ef822f-05e3-4b29-8559-0b1c731a621a",
   "metadata": {
    "scrolled": true,
    "tags": []
   },
   "outputs": [
    {
     "name": "stdout",
     "output_type": "stream",
     "text": [
      "Model: \"model_16\"\n",
      "__________________________________________________________________________________________________\n",
      " Layer (type)                   Output Shape         Param #     Connected to                     \n",
      "==================================================================================================\n",
      " input_3 (InputLayer)           [(None, 384, 384, 3  0           []                               \n",
      "                                )]                                                                \n",
      "                                                                                                  \n",
      " block1_conv1 (Conv2D)          (None, 384, 384, 64  1792        ['input_3[0][0]']                \n",
      "                                )                                                                 \n",
      "                                                                                                  \n",
      " block1_conv2 (Conv2D)          (None, 384, 384, 64  36928       ['block1_conv1[0][0]']           \n",
      "                                )                                                                 \n",
      "                                                                                                  \n",
      " block1_pool (MaxPooling2D)     (None, 192, 192, 64  0           ['block1_conv2[0][0]']           \n",
      "                                )                                                                 \n",
      "                                                                                                  \n",
      " block2_conv1 (Conv2D)          (None, 192, 192, 12  73856       ['block1_pool[0][0]']            \n",
      "                                8)                                                                \n",
      "                                                                                                  \n",
      " block2_conv2 (Conv2D)          (None, 192, 192, 12  147584      ['block2_conv1[0][0]']           \n",
      "                                8)                                                                \n",
      "                                                                                                  \n",
      " block2_pool (MaxPooling2D)     (None, 96, 96, 128)  0           ['block2_conv2[0][0]']           \n",
      "                                                                                                  \n",
      " block3_conv1 (Conv2D)          (None, 96, 96, 256)  295168      ['block2_pool[0][0]']            \n",
      "                                                                                                  \n",
      " block3_conv2 (Conv2D)          (None, 96, 96, 256)  590080      ['block3_conv1[0][0]']           \n",
      "                                                                                                  \n",
      " block3_conv3 (Conv2D)          (None, 96, 96, 256)  590080      ['block3_conv2[0][0]']           \n",
      "                                                                                                  \n",
      " block3_pool (MaxPooling2D)     (None, 48, 48, 256)  0           ['block3_conv3[0][0]']           \n",
      "                                                                                                  \n",
      " block4_conv1 (Conv2D)          (None, 48, 48, 512)  1180160     ['block3_pool[0][0]']            \n",
      "                                                                                                  \n",
      " block4_conv2 (Conv2D)          (None, 48, 48, 512)  2359808     ['block4_conv1[0][0]']           \n",
      "                                                                                                  \n",
      " block4_conv3 (Conv2D)          (None, 48, 48, 512)  2359808     ['block4_conv2[0][0]']           \n",
      "                                                                                                  \n",
      " psp_level1_pooling (AveragePoo  (None, 1, 1, 512)   0           ['block4_conv3[0][0]']           \n",
      " ling2D)                                                                                          \n",
      "                                                                                                  \n",
      " psp_level2_pooling (AveragePoo  (None, 2, 2, 512)   0           ['block4_conv3[0][0]']           \n",
      " ling2D)                                                                                          \n",
      "                                                                                                  \n",
      " psp_level3_pooling (AveragePoo  (None, 3, 3, 512)   0           ['block4_conv3[0][0]']           \n",
      " ling2D)                                                                                          \n",
      "                                                                                                  \n",
      " psp_level6_pooling (AveragePoo  (None, 6, 6, 512)   0           ['block4_conv3[0][0]']           \n",
      " ling2D)                                                                                          \n",
      "                                                                                                  \n",
      " psp_level1_conv (Conv2D)       (None, 1, 1, 512)    262144      ['psp_level1_pooling[0][0]']     \n",
      "                                                                                                  \n",
      " psp_level2_conv (Conv2D)       (None, 2, 2, 512)    262144      ['psp_level2_pooling[0][0]']     \n",
      "                                                                                                  \n",
      " psp_level3_conv (Conv2D)       (None, 3, 3, 512)    262144      ['psp_level3_pooling[0][0]']     \n",
      "                                                                                                  \n",
      " psp_level6_conv (Conv2D)       (None, 6, 6, 512)    262144      ['psp_level6_pooling[0][0]']     \n",
      "                                                                                                  \n",
      " psp_level1_bn (BatchNormalizat  (None, 1, 1, 512)   2048        ['psp_level1_conv[0][0]']        \n",
      " ion)                                                                                             \n",
      "                                                                                                  \n",
      " psp_level2_bn (BatchNormalizat  (None, 2, 2, 512)   2048        ['psp_level2_conv[0][0]']        \n",
      " ion)                                                                                             \n",
      "                                                                                                  \n",
      " psp_level3_bn (BatchNormalizat  (None, 3, 3, 512)   2048        ['psp_level3_conv[0][0]']        \n",
      " ion)                                                                                             \n",
      "                                                                                                  \n",
      " psp_level6_bn (BatchNormalizat  (None, 6, 6, 512)   2048        ['psp_level6_conv[0][0]']        \n",
      " ion)                                                                                             \n",
      "                                                                                                  \n",
      " psp_level1_relu (Activation)   (None, 1, 1, 512)    0           ['psp_level1_bn[0][0]']          \n",
      "                                                                                                  \n",
      " psp_level2_relu (Activation)   (None, 2, 2, 512)    0           ['psp_level2_bn[0][0]']          \n",
      "                                                                                                  \n",
      " psp_level3_relu (Activation)   (None, 3, 3, 512)    0           ['psp_level3_bn[0][0]']          \n",
      "                                                                                                  \n",
      " psp_level6_relu (Activation)   (None, 6, 6, 512)    0           ['psp_level6_bn[0][0]']          \n",
      "                                                                                                  \n",
      " psp_level1_upsampling (UpSampl  (None, 48, 48, 512)  0          ['psp_level1_relu[0][0]']        \n",
      " ing2D)                                                                                           \n",
      "                                                                                                  \n",
      " psp_level2_upsampling (UpSampl  (None, 48, 48, 512)  0          ['psp_level2_relu[0][0]']        \n",
      " ing2D)                                                                                           \n",
      "                                                                                                  \n",
      " psp_level3_upsampling (UpSampl  (None, 48, 48, 512)  0          ['psp_level3_relu[0][0]']        \n",
      " ing2D)                                                                                           \n",
      "                                                                                                  \n",
      " psp_level6_upsampling (UpSampl  (None, 48, 48, 512)  0          ['psp_level6_relu[0][0]']        \n",
      " ing2D)                                                                                           \n",
      "                                                                                                  \n",
      " psp_concat (Concatenate)       (None, 48, 48, 2560  0           ['block4_conv3[0][0]',           \n",
      "                                )                                 'psp_level1_upsampling[0][0]',  \n",
      "                                                                  'psp_level2_upsampling[0][0]',  \n",
      "                                                                  'psp_level3_upsampling[0][0]',  \n",
      "                                                                  'psp_level6_upsampling[0][0]']  \n",
      "                                                                                                  \n",
      " aggregation_conv (Conv2D)      (None, 48, 48, 512)  1310720     ['psp_concat[0][0]']             \n",
      "                                                                                                  \n",
      " aggregation_bn (BatchNormaliza  (None, 48, 48, 512)  2048       ['aggregation_conv[0][0]']       \n",
      " tion)                                                                                            \n",
      "                                                                                                  \n",
      " aggregation_relu (Activation)  (None, 48, 48, 512)  0           ['aggregation_bn[0][0]']         \n",
      "                                                                                                  \n",
      " final_conv (Conv2D)            (None, 48, 48, 7)    32263       ['aggregation_relu[0][0]']       \n",
      "                                                                                                  \n",
      " final_upsampling (UpSampling2D  (None, 384, 384, 7)  0          ['final_conv[0][0]']             \n",
      " )                                                                                                \n",
      "                                                                                                  \n",
      " softmax (Activation)           (None, 384, 384, 7)  0           ['final_upsampling[0][0]']       \n",
      "                                                                                                  \n",
      " mask_layer (MultiplyConstantMa  (None, 384, 384, 7)  147456     ['softmax[0][0]']                \n",
      " sk)                                                                                              \n",
      "                                                                                                  \n",
      " global_average_pooling2d_5 (Gl  (None, 7)           0           ['mask_layer[0][0]']             \n",
      " obalAveragePooling2D)                                                                            \n",
      "                                                                                                  \n",
      "==================================================================================================\n",
      "Total params: 10,184,519\n",
      "Trainable params: 2,544,135\n",
      "Non-trainable params: 7,640,384\n",
      "__________________________________________________________________________________________________\n"
     ]
    }
   ],
   "source": [
    "with tf.device(\"/cpu:0\"):\n",
    "    explainable_model = segmentationadapter.get_explainable_model(model, mask=mask)\n",
    "    explainable_model.summary()"
   ]
  },
  {
   "cell_type": "markdown",
   "id": "bdc5606e-975a-4b0f-8aac-160f31003d1b",
   "metadata": {},
   "source": [
    "# 5. Calculate Grad-CAM (or other explanation methods)"
   ]
  },
  {
   "cell_type": "code",
   "execution_count": null,
   "id": "1584cc90-61c3-4d9a-bf8f-8790c54eb55f",
   "metadata": {},
   "outputs": [],
   "source": [
    "# !pip install tf-explain"
   ]
  },
  {
   "cell_type": "code",
   "execution_count": 118,
   "id": "0f388ddf-6615-4c6b-a048-d727ae2be33e",
   "metadata": {},
   "outputs": [],
   "source": [
    "from tf_explain.core.grad_cam import GradCAM # this implementation of GradCAM does not use ReLU on the output to disregard negative values..."
   ]
  },
  {
   "cell_type": "code",
   "execution_count": 119,
   "id": "fc804695-9105-4a82-a927-f5d804012b2d",
   "metadata": {},
   "outputs": [],
   "source": [
    "with tf.device(\"/cpu:0\"):\n",
    "    data = (array, None)\n",
    "    explainer = GradCAM()\n",
    "    grid = explainer.explain(\n",
    "        data, explainable_model, class_index=class_idx, layer_name=\"final_conv\", use_guided_grads=False, image_weight=0\n",
    "    )"
   ]
  },
  {
   "cell_type": "code",
   "execution_count": 120,
   "id": "eb5df954-7835-42c3-9770-d5044adaa7a1",
   "metadata": {},
   "outputs": [
    {
     "data": {
      "text/plain": [
       "<matplotlib.image.AxesImage at 0x1f6110fe550>"
      ]
     },
     "execution_count": 120,
     "metadata": {},
     "output_type": "execute_result"
    },
    {
     "data": {
      "image/png": "[encoded data removed]",
      "text/plain": [
       "<Figure size 432x288 with 1 Axes>"
      ]
     },
     "metadata": {
      "needs_background": "light"
     },
     "output_type": "display_data"
    }
   ],
   "source": [
    "plt.imshow(grid)"
   ]
  },
  {
   "cell_type": "code",
   "execution_count": null,
   "id": "fc830009-4fe1-420a-ab2f-c3b9724ec21e",
   "metadata": {},
   "outputs": [],
   "source": []
  }
 ],
 "metadata": {
  "kernelspec": {
   "display_name": "Python 3 (ipykernel)",
   "language": "python",
   "name": "python3"
  },
  "language_info": {
   "codemirror_mode": {
    "name": "ipython",
    "version": 3
   },
   "file_extension": ".py",
   "mimetype": "text/x-python",
   "name": "python",
   "nbconvert_exporter": "python",
   "pygments_lexer": "ipython3",
   "version": "3.8.13"
  }
 },
 "nbformat": 4,
 "nbformat_minor": 5
}
